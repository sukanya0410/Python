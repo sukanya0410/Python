{
  "nbformat": 4,
  "nbformat_minor": 0,
  "metadata": {
    "colab": {
      "provenance": []
    },
    "kernelspec": {
      "name": "python3",
      "display_name": "Python 3"
    },
    "language_info": {
      "name": "python"
    }
  },
  "cells": [
    {
      "cell_type": "markdown",
      "source": [
        "#### **Name - Shravani Sandeep Raut**\n",
        "####   **SE/ 48**\n"
      ],
      "metadata": {
        "id": "0ywWd6s9RvcM"
      }
    },
    {
      "cell_type": "code",
      "source": [
        "stack = list ()\n",
        "\n",
        "# Append Operation\n",
        "stack.append ('a')\n",
        "stack.append ('b')\n",
        "stack.append ('c')\n",
        "print ('Initial Stack')\n",
        "print (stack)"
      ],
      "metadata": {
        "id": "eTZGfvyoTe7b",
        "outputId": "07ea714c-f969-4a2e-a7f5-26f61b4e69d2",
        "colab": {
          "base_uri": "https://localhost:8080/"
        }
      },
      "execution_count": null,
      "outputs": [
        {
          "output_type": "stream",
          "name": "stdout",
          "text": [
            "Initial Stack\n",
            "['a', 'b', 'c']\n"
          ]
        }
      ]
    },
    {
      "cell_type": "code",
      "source": [
        "# Pop Operation\n",
        "print (stack.pop ())\n",
        "print (stack.pop ())\n",
        "print (stack.pop ())\n",
        "print (stack)"
      ],
      "metadata": {
        "colab": {
          "base_uri": "https://localhost:8080/"
        },
        "id": "V8KoYaKkTWOb",
        "outputId": "399da421-8b01-432b-8be8-47403bba8509"
      },
      "execution_count": null,
      "outputs": [
        {
          "output_type": "stream",
          "name": "stdout",
          "text": [
            "c\n",
            "b\n",
            "a\n",
            "[]\n"
          ]
        }
      ]
    },
    {
      "cell_type": "markdown",
      "source": [
        "\n",
        "Given a valid parentheses string stringInput, return the nesting depth of stringInput.\n",
        "The nesting depth is the maximum number of nested parentheses.\n",
        "\n",
        "Example 1:\n",
        "Input: s = \"(1+(2*3)+((8)/4))+1\"\n",
        "Output: 3\n",
        "Explanation:\n",
        "Digit 8 is inside of 3 nested parentheses in the string.\n",
        "\n",
        "Example 2:\n",
        "Input: s = \"(1)+((2))+(((3)))\"\n",
        "Output: 3\n",
        "Explanation:\n",
        "Digit 3 is inside of 3 nested parentheses in the string.\n",
        "\n",
        "Example 3:\n",
        "Input: s = \"()(())((()()))\"\n",
        "Output: 3\n"
      ],
      "metadata": {
        "id": "f2A-VGvjTTZj"
      }
    },
    {
      "cell_type": "code",
      "execution_count": null,
      "metadata": {
        "colab": {
          "base_uri": "https://localhost:8080/"
        },
        "id": "NaaNShCWQg9W",
        "outputId": "8088765e-c8ae-4d04-dfe5-7175d2231a0d"
      },
      "outputs": [
        {
          "output_type": "stream",
          "name": "stdout",
          "text": [
            "Enter the string: (1+(2*3)+((8)/4))+1\n",
            "Output: 3\n"
          ]
        }
      ],
      "source": [
        "class StackDepth:\n",
        "    def maximumDepth(self, stringInput: str) -> int:\n",
        "        max_depth = 0\n",
        "        current_depth = 0\n",
        "\n",
        "        for char in stringInput:\n",
        "            if char == '(':\n",
        "                current_depth += 1\n",
        "                max_depth = max(max_depth, current_depth)\n",
        "            elif char == ')':\n",
        "                current_depth -= 1\n",
        "\n",
        "        return max_depth\n",
        "\n",
        "\n",
        "if __name__ == '__main__':\n",
        "    stringInput = str(input(\"Enter the string: \"))\n",
        "    stack_depth = StackDepth()\n",
        "    result = stack_depth.maximumDepth(stringInput)\n",
        "    print(\"Output:\", result)\n"
      ]
    },
    {
      "cell_type": "markdown",
      "source": [],
      "metadata": {
        "id": "JwsJcn91Rt5s"
      }
    }
  ]
}