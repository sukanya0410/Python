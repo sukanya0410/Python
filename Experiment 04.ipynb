{
 "cells": [
  {
   "cell_type": "markdown",
   "id": "27bf8763-51f6-47b7-a09f-3e2f502d15fb",
   "metadata": {},
   "source": [
    "### Sukanya 64 "
   ]
  },
  {
   "cell_type": "markdown",
   "id": "a0e8ca33-d178-467f-ab04-6f3aa1216b46",
   "metadata": {},
   "source": [
    "### Exp 04"
   ]
  },
  {
   "cell_type": "code",
   "execution_count": 1,
   "id": "16a8acf8-cf62-4126-822e-f43792b98583",
   "metadata": {},
   "outputs": [
    {
     "name": "stdout",
     "output_type": "stream",
     "text": [
      "Files in the current directory:\n",
      ".bash_history\n",
      ".lesshst\n",
      ".npmrc\n",
      "Assignment No 1.ipynb\n",
      "jenkins (1).war\n",
      "NTUSER.DAT\n",
      "ntuser.dat.LOG1\n",
      "ntuser.dat.LOG2\n",
      "NTUSER.DAT{a2332f18-cdbf-11ec-8680-002248483d79}.TM.blf\n",
      "NTUSER.DAT{a2332f18-cdbf-11ec-8680-002248483d79}.TMContainer00000000000000000001.regtrans-ms\n",
      "NTUSER.DAT{a2332f18-cdbf-11ec-8680-002248483d79}.TMContainer00000000000000000002.regtrans-ms\n",
      "ntuser.ini\n",
      "package-lock.json\n",
      "package.json\n",
      "timeseriesanalysis.py\n",
      "Untitled.ipynb\n",
      "Untitled1.ipynb\n",
      "Untitled2.ipynb\n"
     ]
    }
   ],
   "source": [
    "from pathlib import Path\n",
    "\n",
    "current_directory = Path('.')\n",
    "\n",
    "files = [f for f in current_directory.iterdir() if f.is_file()]\n",
    "\n",
    "print(\"Files in the current directory:\")\n",
    "for file in files:\n",
    "    print(file.name)\n"
   ]
  }
 ],
 "metadata": {
  "kernelspec": {
   "display_name": "Python 3 (ipykernel)",
   "language": "python",
   "name": "python3"
  },
  "language_info": {
   "codemirror_mode": {
    "name": "ipython",
    "version": 3
   },
   "file_extension": ".py",
   "mimetype": "text/x-python",
   "name": "python",
   "nbconvert_exporter": "python",
   "pygments_lexer": "ipython3",
   "version": "3.12.7"
  }
 },
 "nbformat": 4,
 "nbformat_minor": 5
}
