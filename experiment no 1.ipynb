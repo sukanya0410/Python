{
  "metadata": {
    "kernelspec": {
      "name": "python",
      "display_name": "Python (Pyodide)",
      "language": "python"
    },
    "language_info": {
      "codemirror_mode": {
        "name": "python",
        "version": 3
      },
      "file_extension": ".py",
      "mimetype": "text/x-python",
      "name": "python",
      "nbconvert_exporter": "python",
      "pygments_lexer": "ipython3",
      "version": "3.8"
    }
  },
  "nbformat_minor": 5,
  "nbformat": 4,
  "cells": [
    {
      "id": "513abd9d-24dc-4226-a119-f54f3f39f194",
      "cell_type": "markdown",
      "source": "#### sukanya roll 64",
      "metadata": {}
    },
    {
      "id": "d9b14c8b-a19a-40a2-9d80-161f8af8d1b2",
      "cell_type": "markdown",
      "source": "### Strigs in Python",
      "metadata": {}
    },
    {
      "id": "877d9be9-41d8-4763-b94c-39ac254fce2b",
      "cell_type": "code",
      "source": "# Assigning string to a variable\na = 'This is a string'\nprint (a)\nb = \"This is a string\"\nprint (b)\nc= '''This is a string'''\nprint (c)\n",
      "metadata": {
        "trusted": true
      },
      "outputs": [
        {
          "name": "stdout",
          "output_type": "stream",
          "text": "This is a string\nThis is a string\nThis is a string\n"
        }
      ],
      "execution_count": 3
    },
    {
      "id": "a1e56a78-a94a-4de4-ab7c-9bd6c3b08beb",
      "cell_type": "markdown",
      "source": "### Lists in Python",
      "metadata": {}
    },
    {
      "id": "2382f1ff-c449-4495-bb32-048288f58f86",
      "cell_type": "code",
      "source": "# Declaring a list\nL = [1, \"a\" , \"string\" , 1+2]\nprint (L)\n#Adding an element in the list\nL.append(6) \nprint (L)\n#Deleting last element from a list\nL.pop()\nprint (L)\n#Displaying Second element of the list\nprint (L[1])",
      "metadata": {
        "trusted": true
      },
      "outputs": [
        {
          "name": "stdout",
          "output_type": "stream",
          "text": "[1, 'a', 'string', 3]\n[1, 'a', 'string', 3, 6]\n[1, 'a', 'string', 3]\na\n"
        }
      ],
      "execution_count": 4
    },
    {
      "id": "cca43cfc-7d12-457a-9011-21919620bad9",
      "cell_type": "markdown",
      "source": "### Tuples in Python",
      "metadata": {}
    },
    {
      "id": "dbcb8da5-b014-4560-916f-7f6d5ff7376e",
      "cell_type": "code",
      "source": "tup = (1, \"a\", \"string\", 1+2)\nprint(tup)\nprint(tup[1])",
      "metadata": {
        "trusted": true
      },
      "outputs": [
        {
          "name": "stdout",
          "output_type": "stream",
          "text": "(1, 'a', 'string', 3)\na\n"
        }
      ],
      "execution_count": 5
    },
    {
      "id": "06ba3c36-203d-48b8-a7fc-2359626be6f4",
      "cell_type": "markdown",
      "source": "### Dictionaries in Python",
      "metadata": {}
    },
    {
      "id": "c46392b5-d73d-44e2-890a-3c3a207655d3",
      "cell_type": "code",
      "source": "d = {1: 'Lorem', 2: 'Ipsum', 3: 'Dolerum'}\nprint(d)",
      "metadata": {
        "trusted": true
      },
      "outputs": [
        {
          "name": "stdout",
          "output_type": "stream",
          "text": "{1: 'Lorem', 2: 'Ipsum', 3: 'Dolerum'}\n"
        }
      ],
      "execution_count": 6
    },
    {
      "id": "9b0b4a74-2835-4a32-a8b2-0b771a4cd027",
      "cell_type": "markdown",
      "source": "#### Create a Dictionary",
      "metadata": {}
    },
    {
      "id": "70a7faa3-baed-4e3a-b157-ba62fb85d5ee",
      "cell_type": "code",
      "source": "# create dictionary using { }\nd1 = {1: 'Game', 2: 'of', 3: 'Thrones'}\nprint(d1)\n\n# create dictionary using dict() constructor\nd2 = dict(a = \"House\", b = \"of\", c = \"Cards\")\nprint(d2)",
      "metadata": {
        "trusted": true
      },
      "outputs": [
        {
          "name": "stdout",
          "output_type": "stream",
          "text": "{1: 'Game', 2: 'of', 3: 'Thrones'}\n{'a': 'House', 'b': 'of', 'c': 'Cards'}\n"
        }
      ],
      "execution_count": 7
    },
    {
      "id": "8342b49a-82e9-40f3-9c71-39d82ebb0f9c",
      "cell_type": "markdown",
      "source": "#### Accessing Dictionary Items",
      "metadata": {}
    },
    {
      "id": "5c1ba0ce-cbfc-40cb-91a5-de0fcbbc0314",
      "cell_type": "code",
      "source": "d = { \"name\": \"Alice\", 1: \"Python\", (1, 2): [1,2,4] }\n\n# Access using key\nprint(d[\"name\"])\n\n# Access using get()\nprint(d.get(\"name\"))",
      "metadata": {
        "trusted": true
      },
      "outputs": [
        {
          "name": "stdout",
          "output_type": "stream",
          "text": "Alice\nAlice\n"
        }
      ],
      "execution_count": 8
    },
    {
      "id": "e3f3d0f0-133d-45c2-ab8a-07b20347f878",
      "cell_type": "markdown",
      "source": "#### Adding and Updating Dictionary Items",
      "metadata": {}
    },
    {
      "id": "288de4d5-8c27-48d1-82ef-6e1bc6d782ef",
      "cell_type": "code",
      "source": "d = {1: 'Game', 2: 'of', 3: 'Thrones'}\n\n# Adding a new key-value pair\nd[\"age\"] = 22\n\n# Updating an existing value\nd[1] = \"Python dict\"\n\nprint(d)",
      "metadata": {
        "trusted": true
      },
      "outputs": [
        {
          "name": "stdout",
          "output_type": "stream",
          "text": "{1: 'Python dict', 2: 'of', 3: 'Thrones', 'age': 22}\n"
        }
      ],
      "execution_count": 9
    },
    {
      "id": "c87645e5-c91d-48e7-b564-e96a93a5c454",
      "cell_type": "markdown",
      "source": " ### Deleting The Items From Dictionary",
      "metadata": {}
    },
    {
      "id": "2a0f71ee-4bb8-4f2f-8fa9-5d3da07434d0",
      "cell_type": "code",
      "source": "d = {1: 'Lorem', 2: 'Ipsum', 3: 'Dolerum'}\n\n# Removing and returning the value of a specific key\nremoved_value = d.pop(2)\n\nprint(d)  \nprint(removed_value)",
      "metadata": {
        "trusted": true
      },
      "outputs": [
        {
          "name": "stdout",
          "output_type": "stream",
          "text": "{1: 'Lorem', 3: 'Dolerum'}\nIpsum\n"
        }
      ],
      "execution_count": 11
    },
    {
      "id": "0c09784c-2adc-4d60-a2b9-cbdaf37c1130",
      "cell_type": "markdown",
      "source": "### Pop The Item From Dictionary",
      "metadata": {}
    },
    {
      "id": "e74fc545-d059-4df3-a3b2-c96168fe6981",
      "cell_type": "code",
      "source": "d = {1: 'Lorem', 2: 'Ipsum', 3: 'Dolerum'}\n\n# Pop elements by key\npopped_value1 = d.pop(1)  \nprint(f\"Removed value: {popped_value1}\")\nprint(d)  \n\npopped_value2 = d.pop(2)  \nprint(f\"Removed value: {popped_value2}\")\nprint(d)  \n\n# If you want to pop all elements, you can do so by looping or repeatedly popping\npopped_value3 = d.pop(3)  \nprint(f\"Removed value: {popped_value3}\")\nprint(d)  ",
      "metadata": {
        "trusted": true
      },
      "outputs": [
        {
          "name": "stdout",
          "output_type": "stream",
          "text": "Removed value: Lorem\n{2: 'Ipsum', 3: 'Dolerum'}\nRemoved value: Ipsum\n{3: 'Dolerum'}\nRemoved value: Dolerum\n{}\n"
        }
      ],
      "execution_count": 12
    },
    {
      "id": "1fdbb3ec-1af1-49d8-87d7-a1e842885721",
      "cell_type": "markdown",
      "source": "### Removing The Item From Dictionary",
      "metadata": {}
    },
    {
      "id": "2c926014-320a-4a9c-8fd6-7fd2c93e8660",
      "cell_type": "code",
      "source": "d = {1: 'Lorem', 2: 'Ipsum', 3: 'Dolerum'}\nprint(\"Original dictionary:\", d)\n\n# Remove an element with a specific key using del\ndel d[2]  \nprint(\"Dictionary after deletion:\", d)",
      "metadata": {
        "trusted": true
      },
      "outputs": [
        {
          "name": "stdout",
          "output_type": "stream",
          "text": "Original dictionary: {1: 'Lorem', 2: 'Ipsum', 3: 'Dolerum'}\nDictionary after deletion: {1: 'Lorem', 3: 'Dolerum'}\n"
        }
      ],
      "execution_count": 13
    },
    {
      "id": "666c6730-31b9-4ac0-8375-ed6bd5cf01d1",
      "cell_type": "code",
      "source": "",
      "metadata": {
        "trusted": true
      },
      "outputs": [],
      "execution_count": null
    }
  ]
}