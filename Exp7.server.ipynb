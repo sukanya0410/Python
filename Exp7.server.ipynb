{
 "cells": [
  {
   "cell_type": "markdown",
   "id": "b98f50d0-fe15-46ab-a3bb-c570db80eeff",
   "metadata": {},
   "source": [
    "### Sukanya Jadhav 64"
   ]
  },
  {
   "cell_type": "code",
   "execution_count": null,
   "id": "4cb3b4da-646f-490f-a898-0c06e53ab49e",
   "metadata": {},
   "outputs": [
    {
     "name": "stdout",
     "output_type": "stream",
     "text": [
      "[SERVER STARTING] server has been started\n",
      "[LISTENING] Server is listening on 192.168.75.1\n",
      "[NEW CONNECTION] ('192.168.75.1', 54293) connected[ACTIVE CONNECTION] 6\n",
      "\n",
      "[('192.168.75.1', 54293)] Hello World\n",
      "[('192.168.75.1', 54293)] !DISCONNECT\n"
     ]
    }
   ],
   "source": [
    "import socket, threading\n",
    "\n",
    "PORT = 5050\n",
    "SERVER = socket.gethostbyname (socket.gethostname ())\n",
    "ADDR = (SERVER, PORT)\n",
    "FORMAT = 'utf-8'\n",
    "HEADER = 64\n",
    "DISCONNECT_MESSAGE = '!DISCONNECT'\n",
    "\n",
    "server = socket.socket (socket.AF_INET, socket.SOCK_STREAM)\n",
    "server.bind (ADDR)\n",
    "\n",
    "def clientHandling (connection, address):\n",
    "    print (f'[NEW CONNECTION] {address} connected')\n",
    "    isConnected = True\n",
    "    while isConnected:\n",
    "        messageLength = connection.recv (HEADER).decode (FORMAT)\n",
    "        if messageLength:\n",
    "            messageLength = int (messageLength)\n",
    "            message = connection.recv (messageLength).decode (FORMAT)\n",
    "            if message == DISCONNECT_MESSAGE:\n",
    "                isConnected = False\n",
    "            print (f'[{address}] {message}')\n",
    "            connection.send ('Message Recieved'.encode (FORMAT))\n",
    "    connection.close ()\n",
    "\n",
    "def start ():\n",
    "    server.listen ()\n",
    "    print (f'[LISTENING] Server is listening on {SERVER}')\n",
    "    while True:\n",
    "        connection, address = server.accept ()\n",
    "        thread = threading.Thread (target=clientHandling, args=(connection, address))\n",
    "        thread.start ()\n",
    "        print (f'[ACTIVE CONNECTION] {threading.active_count () - 1}')\n",
    "\n",
    "print ('[SERVER STARTING] server has been started')\n",
    "start ()"
   ]
  },
  {
   "cell_type": "code",
   "execution_count": null,
   "id": "bc53a5dd-5578-440a-ae9c-d471b8db13e8",
   "metadata": {},
   "outputs": [],
   "source": []
  }
 ],
 "metadata": {
  "kernelspec": {
   "display_name": "Python 3 (ipykernel)",
   "language": "python",
   "name": "python3"
  },
  "language_info": {
   "codemirror_mode": {
    "name": "ipython",
    "version": 3
   },
   "file_extension": ".py",
   "mimetype": "text/x-python",
   "name": "python",
   "nbconvert_exporter": "python",
   "pygments_lexer": "ipython3",
   "version": "3.12.7"
  }
 },
 "nbformat": 4,
 "nbformat_minor": 5
}
