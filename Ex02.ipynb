{
 "cells": [
  {
   "cell_type": "markdown",
   "id": "9883cd7f-3bf4-4c7b-88d0-d764f0f9bed0",
   "metadata": {},
   "source": [
    "### Exp2.sukanya\n"
   ]
  },
  {
   "cell_type": "code",
   "execution_count": 11,
   "id": "4a378c5d-92b8-40a4-b743-00fba5a3fff4",
   "metadata": {},
   "outputs": [
    {
     "name": "stdout",
     "output_type": "stream",
     "text": [
      "Backend Developer\n"
     ]
    }
   ],
   "source": [
    "class Employee:\n",
    "    def __init__ (\n",
    "            self,\n",
    "            designation : str = 'Developer',\n",
    "            frontend : bool = False,\n",
    "            backend : bool = True\n",
    "    ):\n",
    "        self.designation = designation\n",
    "        self.frontend = frontend\n",
    "        self.backend = backend\n",
    "\n",
    "    def __repr__ (self):\n",
    "        return '{}'.format (self.designation, self.frontend, self.backend)\n",
    "    \n",
    "    def verifier (self):\n",
    "        if self.frontend and self.backend:\n",
    "            return \"Full-stack developer\"\n",
    "        elif self.frontend:\n",
    "            return \"Frontend Developer\"\n",
    "        elif self.backend:\n",
    "            return \"Backend Developer\"\n",
    "        else:\n",
    "            return \"Not a Developer\"\n",
    "if __name__ == '__main__':\n",
    "    firstEmployee = Employee()\n",
    "    print(firstEmployee.verifier())\n"
   ]
  },
  {
   "cell_type": "code",
   "execution_count": null,
   "id": "ff96ef29-0bfc-4cb1-94a5-5f254bddd5b2",
   "metadata": {},
   "outputs": [],
   "source": []
  }
 ],
 "metadata": {
  "kernelspec": {
   "display_name": "Python 3 (ipykernel)",
   "language": "python",
   "name": "python3"
  },
  "language_info": {
   "codemirror_mode": {
    "name": "ipython",
    "version": 3
   },
   "file_extension": ".py",
   "mimetype": "text/x-python",
   "name": "python",
   "nbconvert_exporter": "python",
   "pygments_lexer": "ipython3",
   "version": "3.12.3"
  }
 },
 "nbformat": 4,
 "nbformat_minor": 5
}
